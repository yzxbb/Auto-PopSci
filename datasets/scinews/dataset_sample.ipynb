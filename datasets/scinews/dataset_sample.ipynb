{
 "cells": [
  {
   "cell_type": "code",
   "execution_count": null,
   "id": "10bc960e",
   "metadata": {},
   "outputs": [
    {
     "name": "stderr",
     "output_type": "stream",
     "text": [
      "Using the latest cached version of the dataset since dongqi-me/SciNews couldn't be found on the Hugging Face Hub\n",
      "Found the latest cached dataset configuration 'default' at /home/zym/.cache/huggingface/datasets/dongqi-me___sci_news/default/0.0.0/2560c222f373ea9d708eb46bf4fe64f0364f78e5 (last modified on Fri Mar 28 14:05:12 2025).\n"
     ]
    },
    {
     "name": "stdout",
     "output_type": "stream",
     "text": [
      "DatasetDict({\n",
      "    train: Dataset({\n",
      "        features: ['News_Title', 'News_Body', 'News_URL', 'Citation', 'DOI', 'Paper_URL', 'Paper_Body', 'Topic'],\n",
      "        num_rows: 33497\n",
      "    })\n",
      "    validation: Dataset({\n",
      "        features: ['News_Title', 'News_Body', 'News_URL', 'Citation', 'DOI', 'Paper_URL', 'Paper_Body', 'Topic'],\n",
      "        num_rows: 4187\n",
      "    })\n",
      "    test: Dataset({\n",
      "        features: ['News_Title', 'News_Body', 'News_URL', 'Citation', 'DOI', 'Paper_URL', 'Paper_Body', 'Topic'],\n",
      "        num_rows: 4188\n",
      "    })\n",
      "})\n",
      "Dataset({\n",
      "    features: ['News_Title', 'News_Body', 'News_URL', 'Citation', 'DOI', 'Paper_URL', 'Paper_Body', 'Topic'],\n",
      "    num_rows: 50\n",
      "})\n",
      "Dataset({\n",
      "    features: ['News_Title', 'News_Body', 'News_URL', 'Citation', 'DOI', 'Paper_URL', 'Paper_Body', 'Topic'],\n",
      "    num_rows: 5\n",
      "})\n"
     ]
    }
   ],
   "source": [
    "from datasets import load_dataset\n",
    "from pprint import pprint\n",
    "dataset_name = \"dongqi-me/SciNews\"\n",
    "\n",
    "dataset = load_dataset(dataset_name)\n",
    "\n",
    "pprint(dataset)\n",
    "\n",
    "dataset_50 = dataset['train'].select(range(50))\n",
    "dataset_5 = dataset['train'].select(range(5))\n",
    "\n",
    "dataset_50 = dataset_50.select_columns(column_names=['Paper_Body', 'News_Body', 'News_Title', 'Topic'])\n",
    "dataset_5 = dataset_5.select_columns(column_names=['Paper_Body', 'News_Body', 'News_Title', 'Topic'])\n",
    "\n",
    "dataset_50.to_json('Auto_Popsci/datasets/scinews/dev_dataset_50.json')\n",
    "dataset_5.to_json('Auto_Popsci/datasets/scinews/dev_dataset_5.json')\n",
    "    \n",
    "pprint(dataset_50)\n",
    "pprint(dataset_5)"
   ]
  }
 ],
 "metadata": {
  "kernelspec": {
   "display_name": "Python 3",
   "language": "python",
   "name": "python3"
  },
  "language_info": {
   "codemirror_mode": {
    "name": "ipython",
    "version": 3
   },
   "file_extension": ".py",
   "mimetype": "text/x-python",
   "name": "python",
   "nbconvert_exporter": "python",
   "pygments_lexer": "ipython3",
   "version": "3.12.9"
  }
 },
 "nbformat": 4,
 "nbformat_minor": 5
}
