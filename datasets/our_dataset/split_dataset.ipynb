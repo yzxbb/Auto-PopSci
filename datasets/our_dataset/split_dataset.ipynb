{
 "cells": [
  {
   "cell_type": "code",
   "execution_count": null,
   "id": "afb0b7c9",
   "metadata": {},
   "outputs": [],
   "source": [
    "import pandas as pd\n",
    "import tqdm\n",
    "\n",
    "with open(\"/home/zym/Auto-PopSci/datasets/our_dataset/popsci.parquet\", \"rb\") as f:\n",
    "    df = pd.read_parquet(f)\n",
    "    df.dropna(subset=['paper_content'], inplace=True)\n",
    "    \n",
    "    df = df[df['paper_content'].str.len() > 0]\n",
    "    df_5 = df.head()\n",
    "    df_50 = df.head(50)\n",
    "\n",
    "    df_5_selected = df_5[[\"title\", \"paper_content\", \"content\"]]\n",
    "    df_50_selected = df_50[[\"title\", \"paper_content\", \"content\"]]\n",
    "    \n",
    "    df_5_selected = df_5_selected.rename(\n",
    "        columns={\n",
    "            \"title\": \"title\",\n",
    "            \"paper_content\": \"paper_content\",\n",
    "            \"content\": \"news_content\",\n",
    "        }\n",
    "    )\n",
    "    df_50_selected = df_50_selected.rename(\n",
    "        columns={\n",
    "            \"title\": \"title\",\n",
    "            \"paper_content\": \"paper_content\",\n",
    "            \"content\": \"news_content\",\n",
    "        }\n",
    "    )\n",
    "    \n",
    "    df_5_selected.to_csv(\n",
    "        \"/home/zym/Auto-PopSci/datasets/our_dataset/popsci_5.csv\",\n",
    "        index=False,\n",
    "    )\n",
    "    df_50_selected.to_csv(\n",
    "        \"/home/zym/Auto-PopSci/datasets/our_dataset/popsci_50.csv\",\n",
    "        index=False,\n",
    "    )\n",
    "\n",
    "    df_50_selected.to_parquet(\n",
    "        \"/home/zym/Auto-PopSci/datasets/our_dataset/popsci_50.parquet\"\n",
    "    )\n",
    "    df_5_selected.to_parquet(\n",
    "        \"/home/zym/Auto-PopSci/datasets/our_dataset/popsci_5.parquet\"\n",
    "    )"
   ]
  }
 ],
 "metadata": {
  "kernelspec": {
   "display_name": "popsci",
   "language": "python",
   "name": "python3"
  },
  "language_info": {
   "codemirror_mode": {
    "name": "ipython",
    "version": 3
   },
   "file_extension": ".py",
   "mimetype": "text/x-python",
   "name": "python",
   "nbconvert_exporter": "python",
   "pygments_lexer": "ipython3",
   "version": "3.12.9"
  }
 },
 "nbformat": 4,
 "nbformat_minor": 5
}
